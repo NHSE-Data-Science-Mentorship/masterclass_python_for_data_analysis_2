{
 "cells": [
  {
   "cell_type": "markdown",
   "metadata": {},
   "source": [
    "<img src=\"img/logo.jpg\" width=\"40\" height=\"40\"></img>\n",
    "`python-for-data-analysis-solution.ipynb`, `flu_consultation_records.csv` and `patient_demographics.csv` (10 September, 2021) is provided to NHS England under licence from Faculty Science Ltd."
   ]
  },
  {
   "cell_type": "markdown",
   "metadata": {},
   "source": [
    "# Predicting flu consultation\n",
    "---\n",
    "There are two relevant datasets:\n",
    "\n",
    " `patient_demographics.csv` contains the demographics of the patient (age, gender, ethnicity and who this patient lives with)\n",
    " \n",
    "`flu_consultation_records.csv` contains 735660 rows and 4 columns\n",
    "\n",
    "   - `date`: the date of the record\n",
    "   - `temperature`: the average temperature near the patient's home\n",
    "   - `patient_id`: pseudonymised patient id\n",
    "   - `has_flu_consultation`: whether the patient has a flu consultation on that day\n",
    " \n",
    "The goal here is to find out whether we can predict a patient is going to make a flu consultation based on the features we have access to.\n",
    "\n",
    "<i>Note: The data for this exercise has been generated randomly, so may display some regularity that would not be expected of real world data</i>"
   ]
  },
  {
   "cell_type": "markdown",
   "metadata": {},
   "source": [
    "## Imports"
   ]
  },
  {
   "cell_type": "code",
   "execution_count": 1,
   "metadata": {},
   "outputs": [],
   "source": [
    "import pandas as pd\n",
    "import numpy as np\n",
    "import matplotlib.pyplot as plt\n",
    "%matplotlib inline"
   ]
  },
  {
   "cell_type": "code",
   "execution_count": 2,
   "metadata": {},
   "outputs": [],
   "source": [
    "# set this to the number of CPU you want to use\n",
    "n_jobs = 4"
   ]
  },
  {
   "cell_type": "markdown",
   "metadata": {},
   "source": [
    "## Data\n",
    "---\n",
    "Let's load the two datasets and see what is in there"
   ]
  },
  {
   "cell_type": "code",
   "execution_count": 3,
   "metadata": {},
   "outputs": [],
   "source": [
    "# load the two datasets\n",
    "demo_df = pd.read_csv(\n",
    "    \"./patient_demographics.csv\"\n",
    ")\n",
    "flu_df = pd.read_csv(\n",
    "    \"./flu_consultation_records.csv\"\n",
    ")"
   ]
  },
  {
   "cell_type": "code",
   "execution_count": 4,
   "metadata": {},
   "outputs": [
    {
     "data": {
      "text/html": [
       "<div>\n",
       "<style scoped>\n",
       "    .dataframe tbody tr th:only-of-type {\n",
       "        vertical-align: middle;\n",
       "    }\n",
       "\n",
       "    .dataframe tbody tr th {\n",
       "        vertical-align: top;\n",
       "    }\n",
       "\n",
       "    .dataframe thead th {\n",
       "        text-align: right;\n",
       "    }\n",
       "</style>\n",
       "<table border=\"1\" class=\"dataframe\">\n",
       "  <thead>\n",
       "    <tr style=\"text-align: right;\">\n",
       "      <th></th>\n",
       "      <th>patient_id</th>\n",
       "      <th>gender</th>\n",
       "      <th>ethnicity</th>\n",
       "      <th>living_condition</th>\n",
       "      <th>age</th>\n",
       "    </tr>\n",
       "  </thead>\n",
       "  <tbody>\n",
       "    <tr>\n",
       "      <th>0</th>\n",
       "      <td>dd0f2ed4-e304-4bc5-b294-dc6857f6fc0d</td>\n",
       "      <td>M</td>\n",
       "      <td>White</td>\n",
       "      <td>other</td>\n",
       "      <td>37.0</td>\n",
       "    </tr>\n",
       "    <tr>\n",
       "      <th>1</th>\n",
       "      <td>608454f5-98aa-42ce-b5f4-285cd9b09980</td>\n",
       "      <td>M</td>\n",
       "      <td>White</td>\n",
       "      <td>other</td>\n",
       "      <td>54.0</td>\n",
       "    </tr>\n",
       "    <tr>\n",
       "      <th>2</th>\n",
       "      <td>d6bf2b0c-3cd7-4ed6-b3cf-afe074c67894</td>\n",
       "      <td>M</td>\n",
       "      <td>White</td>\n",
       "      <td>other</td>\n",
       "      <td>20.0</td>\n",
       "    </tr>\n",
       "    <tr>\n",
       "      <th>3</th>\n",
       "      <td>e8404409-e5e9-4dfe-86da-36cf47c5751f</td>\n",
       "      <td>F</td>\n",
       "      <td>White</td>\n",
       "      <td>other</td>\n",
       "      <td>63.0</td>\n",
       "    </tr>\n",
       "    <tr>\n",
       "      <th>4</th>\n",
       "      <td>98d2f9d5-2a7d-49d2-b5f1-8c72325a08cb</td>\n",
       "      <td>F</td>\n",
       "      <td>White</td>\n",
       "      <td>other</td>\n",
       "      <td>26.0</td>\n",
       "    </tr>\n",
       "  </tbody>\n",
       "</table>\n",
       "</div>"
      ],
      "text/plain": [
       "                             patient_id gender ethnicity living_condition  \\\n",
       "0  dd0f2ed4-e304-4bc5-b294-dc6857f6fc0d      M     White            other   \n",
       "1  608454f5-98aa-42ce-b5f4-285cd9b09980      M     White            other   \n",
       "2  d6bf2b0c-3cd7-4ed6-b3cf-afe074c67894      M     White            other   \n",
       "3  e8404409-e5e9-4dfe-86da-36cf47c5751f      F     White            other   \n",
       "4  98d2f9d5-2a7d-49d2-b5f1-8c72325a08cb      F     White            other   \n",
       "\n",
       "    age  \n",
       "0  37.0  \n",
       "1  54.0  \n",
       "2  20.0  \n",
       "3  63.0  \n",
       "4  26.0  "
      ]
     },
     "execution_count": 4,
     "metadata": {},
     "output_type": "execute_result"
    }
   ],
   "source": [
    "# return the first 5 rows of demo_df\n",
    "demo_df.head()"
   ]
  },
  {
   "cell_type": "code",
   "execution_count": 5,
   "metadata": {},
   "outputs": [
    {
     "data": {
      "text/html": [
       "<div>\n",
       "<style scoped>\n",
       "    .dataframe tbody tr th:only-of-type {\n",
       "        vertical-align: middle;\n",
       "    }\n",
       "\n",
       "    .dataframe tbody tr th {\n",
       "        vertical-align: top;\n",
       "    }\n",
       "\n",
       "    .dataframe thead th {\n",
       "        text-align: right;\n",
       "    }\n",
       "</style>\n",
       "<table border=\"1\" class=\"dataframe\">\n",
       "  <thead>\n",
       "    <tr style=\"text-align: right;\">\n",
       "      <th></th>\n",
       "      <th>date</th>\n",
       "      <th>temperature</th>\n",
       "      <th>patient_id</th>\n",
       "      <th>has_flu_consultation</th>\n",
       "    </tr>\n",
       "  </thead>\n",
       "  <tbody>\n",
       "    <tr>\n",
       "      <th>0</th>\n",
       "      <td>2020-01-01</td>\n",
       "      <td>6.700850</td>\n",
       "      <td>dd0f2ed4-e304-4bc5-b294-dc6857f6fc0d</td>\n",
       "      <td>no</td>\n",
       "    </tr>\n",
       "    <tr>\n",
       "      <th>1</th>\n",
       "      <td>2020-01-02</td>\n",
       "      <td>6.699768</td>\n",
       "      <td>dd0f2ed4-e304-4bc5-b294-dc6857f6fc0d</td>\n",
       "      <td>no</td>\n",
       "    </tr>\n",
       "    <tr>\n",
       "      <th>2</th>\n",
       "      <td>2020-01-03</td>\n",
       "      <td>6.698431</td>\n",
       "      <td>dd0f2ed4-e304-4bc5-b294-dc6857f6fc0d</td>\n",
       "      <td>yes</td>\n",
       "    </tr>\n",
       "    <tr>\n",
       "      <th>3</th>\n",
       "      <td>2020-01-04</td>\n",
       "      <td>6.700928</td>\n",
       "      <td>dd0f2ed4-e304-4bc5-b294-dc6857f6fc0d</td>\n",
       "      <td>no</td>\n",
       "    </tr>\n",
       "    <tr>\n",
       "      <th>4</th>\n",
       "      <td>2020-01-05</td>\n",
       "      <td>6.699303</td>\n",
       "      <td>dd0f2ed4-e304-4bc5-b294-dc6857f6fc0d</td>\n",
       "      <td>no</td>\n",
       "    </tr>\n",
       "  </tbody>\n",
       "</table>\n",
       "</div>"
      ],
      "text/plain": [
       "         date  temperature                            patient_id  \\\n",
       "0  2020-01-01     6.700850  dd0f2ed4-e304-4bc5-b294-dc6857f6fc0d   \n",
       "1  2020-01-02     6.699768  dd0f2ed4-e304-4bc5-b294-dc6857f6fc0d   \n",
       "2  2020-01-03     6.698431  dd0f2ed4-e304-4bc5-b294-dc6857f6fc0d   \n",
       "3  2020-01-04     6.700928  dd0f2ed4-e304-4bc5-b294-dc6857f6fc0d   \n",
       "4  2020-01-05     6.699303  dd0f2ed4-e304-4bc5-b294-dc6857f6fc0d   \n",
       "\n",
       "  has_flu_consultation  \n",
       "0                   no  \n",
       "1                   no  \n",
       "2                  yes  \n",
       "3                   no  \n",
       "4                   no  "
      ]
     },
     "execution_count": 5,
     "metadata": {},
     "output_type": "execute_result"
    }
   ],
   "source": [
    "# return the first 5 rows of flu_df\n",
    "flu_df.head()"
   ]
  },
  {
   "cell_type": "markdown",
   "metadata": {},
   "source": [
    "### Merge data\n",
    "In order to relate the patient demographics with their flu consultation records, we need to merge the two datasets"
   ]
  },
  {
   "cell_type": "code",
   "execution_count": 7,
   "metadata": {},
   "outputs": [
    {
     "data": {
      "text/html": [
       "<div>\n",
       "<style scoped>\n",
       "    .dataframe tbody tr th:only-of-type {\n",
       "        vertical-align: middle;\n",
       "    }\n",
       "\n",
       "    .dataframe tbody tr th {\n",
       "        vertical-align: top;\n",
       "    }\n",
       "\n",
       "    .dataframe thead th {\n",
       "        text-align: right;\n",
       "    }\n",
       "</style>\n",
       "<table border=\"1\" class=\"dataframe\">\n",
       "  <thead>\n",
       "    <tr style=\"text-align: right;\">\n",
       "      <th></th>\n",
       "      <th>patient_id</th>\n",
       "      <th>gender</th>\n",
       "      <th>ethnicity</th>\n",
       "      <th>living_condition</th>\n",
       "      <th>age</th>\n",
       "      <th>date</th>\n",
       "      <th>temperature</th>\n",
       "      <th>has_flu_consultation</th>\n",
       "    </tr>\n",
       "  </thead>\n",
       "  <tbody>\n",
       "    <tr>\n",
       "      <th>0</th>\n",
       "      <td>dd0f2ed4-e304-4bc5-b294-dc6857f6fc0d</td>\n",
       "      <td>M</td>\n",
       "      <td>White</td>\n",
       "      <td>other</td>\n",
       "      <td>37.0</td>\n",
       "      <td>2020-01-01</td>\n",
       "      <td>6.700850</td>\n",
       "      <td>no</td>\n",
       "    </tr>\n",
       "    <tr>\n",
       "      <th>1</th>\n",
       "      <td>dd0f2ed4-e304-4bc5-b294-dc6857f6fc0d</td>\n",
       "      <td>M</td>\n",
       "      <td>White</td>\n",
       "      <td>other</td>\n",
       "      <td>37.0</td>\n",
       "      <td>2020-01-02</td>\n",
       "      <td>6.699768</td>\n",
       "      <td>no</td>\n",
       "    </tr>\n",
       "    <tr>\n",
       "      <th>2</th>\n",
       "      <td>dd0f2ed4-e304-4bc5-b294-dc6857f6fc0d</td>\n",
       "      <td>M</td>\n",
       "      <td>White</td>\n",
       "      <td>other</td>\n",
       "      <td>37.0</td>\n",
       "      <td>2020-01-03</td>\n",
       "      <td>6.698431</td>\n",
       "      <td>yes</td>\n",
       "    </tr>\n",
       "    <tr>\n",
       "      <th>3</th>\n",
       "      <td>dd0f2ed4-e304-4bc5-b294-dc6857f6fc0d</td>\n",
       "      <td>M</td>\n",
       "      <td>White</td>\n",
       "      <td>other</td>\n",
       "      <td>37.0</td>\n",
       "      <td>2020-01-04</td>\n",
       "      <td>6.700928</td>\n",
       "      <td>no</td>\n",
       "    </tr>\n",
       "    <tr>\n",
       "      <th>4</th>\n",
       "      <td>dd0f2ed4-e304-4bc5-b294-dc6857f6fc0d</td>\n",
       "      <td>M</td>\n",
       "      <td>White</td>\n",
       "      <td>other</td>\n",
       "      <td>37.0</td>\n",
       "      <td>2020-01-05</td>\n",
       "      <td>6.699303</td>\n",
       "      <td>no</td>\n",
       "    </tr>\n",
       "  </tbody>\n",
       "</table>\n",
       "</div>"
      ],
      "text/plain": [
       "                             patient_id gender ethnicity living_condition  \\\n",
       "0  dd0f2ed4-e304-4bc5-b294-dc6857f6fc0d      M     White            other   \n",
       "1  dd0f2ed4-e304-4bc5-b294-dc6857f6fc0d      M     White            other   \n",
       "2  dd0f2ed4-e304-4bc5-b294-dc6857f6fc0d      M     White            other   \n",
       "3  dd0f2ed4-e304-4bc5-b294-dc6857f6fc0d      M     White            other   \n",
       "4  dd0f2ed4-e304-4bc5-b294-dc6857f6fc0d      M     White            other   \n",
       "\n",
       "    age        date  temperature has_flu_consultation  \n",
       "0  37.0  2020-01-01     6.700850                   no  \n",
       "1  37.0  2020-01-02     6.699768                   no  \n",
       "2  37.0  2020-01-03     6.698431                  yes  \n",
       "3  37.0  2020-01-04     6.700928                   no  \n",
       "4  37.0  2020-01-05     6.699303                   no  "
      ]
     },
     "execution_count": 7,
     "metadata": {},
     "output_type": "execute_result"
    }
   ],
   "source": [
    "# Merge the dataset here\n",
    "df = pd.merge(demo_df, flu_df, on=\"patient_id\")\n",
    "df.head()"
   ]
  },
  {
   "cell_type": "markdown",
   "metadata": {},
   "source": [
    "## Exploratory data analysis (EDA)\n",
    "---"
   ]
  },
  {
   "cell_type": "markdown",
   "metadata": {},
   "source": [
    "Check for missing values or duplicate rows using pandas and remove accordingly if any are found"
   ]
  },
  {
   "cell_type": "code",
   "execution_count": 8,
   "metadata": {},
   "outputs": [
    {
     "name": "stdout",
     "output_type": "stream",
     "text": [
      "Are there any Null values: True\n",
      "Number of duplicated rows: 9941\n",
      "Number of rows in the data: 689485\n"
     ]
    }
   ],
   "source": [
    "print(f\"Are there any Null values: {df.isnull().values.any()}\")\n",
    "print(f'Number of duplicated rows: {sum(df.duplicated(keep=\"first\"))}')\n",
    "df.drop_duplicates(keep=\"first\", inplace=True)\n",
    "df.dropna(inplace=True)\n",
    "print(f'Number of rows in the data: {len(df)}')"
   ]
  },
  {
   "cell_type": "markdown",
   "metadata": {},
   "source": [
    "Conduct some basic checks on each column to see if there are erroneous data entries, remove them accordingly"
   ]
  },
  {
   "cell_type": "code",
   "execution_count": 9,
   "metadata": {},
   "outputs": [
    {
     "data": {
      "text/html": [
       "<div>\n",
       "<style scoped>\n",
       "    .dataframe tbody tr th:only-of-type {\n",
       "        vertical-align: middle;\n",
       "    }\n",
       "\n",
       "    .dataframe tbody tr th {\n",
       "        vertical-align: top;\n",
       "    }\n",
       "\n",
       "    .dataframe thead th {\n",
       "        text-align: right;\n",
       "    }\n",
       "</style>\n",
       "<table border=\"1\" class=\"dataframe\">\n",
       "  <thead>\n",
       "    <tr style=\"text-align: right;\">\n",
       "      <th></th>\n",
       "      <th>age</th>\n",
       "      <th>temperature</th>\n",
       "    </tr>\n",
       "  </thead>\n",
       "  <tbody>\n",
       "    <tr>\n",
       "      <th>count</th>\n",
       "      <td>689485.000000</td>\n",
       "      <td>689485.000000</td>\n",
       "    </tr>\n",
       "    <tr>\n",
       "      <th>mean</th>\n",
       "      <td>36.523430</td>\n",
       "      <td>10.205085</td>\n",
       "    </tr>\n",
       "    <tr>\n",
       "      <th>std</th>\n",
       "      <td>21.508303</td>\n",
       "      <td>3.729065</td>\n",
       "    </tr>\n",
       "    <tr>\n",
       "      <th>min</th>\n",
       "      <td>-53.000000</td>\n",
       "      <td>4.298284</td>\n",
       "    </tr>\n",
       "    <tr>\n",
       "      <th>25%</th>\n",
       "      <td>18.000000</td>\n",
       "      <td>6.798310</td>\n",
       "    </tr>\n",
       "    <tr>\n",
       "      <th>50%</th>\n",
       "      <td>37.000000</td>\n",
       "      <td>9.401538</td>\n",
       "    </tr>\n",
       "    <tr>\n",
       "      <th>75%</th>\n",
       "      <td>54.000000</td>\n",
       "      <td>14.296907</td>\n",
       "    </tr>\n",
       "    <tr>\n",
       "      <th>max</th>\n",
       "      <td>74.000000</td>\n",
       "      <td>15.901695</td>\n",
       "    </tr>\n",
       "  </tbody>\n",
       "</table>\n",
       "</div>"
      ],
      "text/plain": [
       "                 age    temperature\n",
       "count  689485.000000  689485.000000\n",
       "mean       36.523430      10.205085\n",
       "std        21.508303       3.729065\n",
       "min       -53.000000       4.298284\n",
       "25%        18.000000       6.798310\n",
       "50%        37.000000       9.401538\n",
       "75%        54.000000      14.296907\n",
       "max        74.000000      15.901695"
      ]
     },
     "execution_count": 9,
     "metadata": {},
     "output_type": "execute_result"
    }
   ],
   "source": [
    "df.describe()"
   ]
  },
  {
   "cell_type": "code",
   "execution_count": 10,
   "metadata": {},
   "outputs": [],
   "source": [
    "df = df[df[\"age\"] > 0]\n"
   ]
  },
  {
   "cell_type": "code",
   "execution_count": 13,
   "metadata": {},
   "outputs": [
    {
     "data": {
      "text/plain": [
       "0         2\n",
       "1         3\n",
       "2         4\n",
       "3         5\n",
       "4         6\n",
       "         ..\n",
       "742975    6\n",
       "742976    0\n",
       "742977    1\n",
       "742978    2\n",
       "742979    3\n",
       "Name: date, Length: 688021, dtype: int64"
      ]
     },
     "execution_count": 13,
     "metadata": {},
     "output_type": "execute_result"
    }
   ],
   "source": [
    "df.describe()\n",
    "df.head()\n",
    "pd.to_datetime(df['date']).dt.weekday"
   ]
  },
  {
   "cell_type": "markdown",
   "metadata": {},
   "source": [
    "Visualise the data for better understanding"
   ]
  },
  {
   "cell_type": "code",
   "execution_count": 14,
   "metadata": {},
   "outputs": [
    {
     "data": {
      "text/plain": [
       "<matplotlib.axes._subplots.AxesSubplot at 0x7f9aebfd86a0>"
      ]
     },
     "execution_count": 14,
     "metadata": {},
     "output_type": "execute_result"
    },
    {
     "data": {
      "image/png": "[encoded data removed]",
      "text/plain": [
       "<Figure size 1080x360 with 2 Axes>"
      ]
     },
     "metadata": {
      "needs_background": "light"
     },
     "output_type": "display_data"
    }
   ],
   "source": [
    "# look at whether the number of flu consultation in each month/ weekday\n",
    "df['weekday']=pd.to_datetime(df['date']).dt.weekday\n",
    "df['month']=pd.to_datetime(df['date']).dt.month\n",
    "df['has_flu_consultation'].replace({'yes':1,'no':0},inplace=True)\n",
    "fig, (ax1,ax2) = plt.subplots(1, 2, figsize=(15,5))\n",
    "flu_consultation_by_month=df.groupby('month')['has_flu_consultation'].sum()\n",
    "flu_consultation_by_month.plot(ax=ax1)\n",
    "flu_consultation_by_weekday=df.groupby('weekday')['has_flu_consultation'].sum()\n",
    "flu_consultation_by_weekday.plot(ax=ax2)"
   ]
  },
  {
   "cell_type": "code",
   "execution_count": 16,
   "metadata": {},
   "outputs": [
    {
     "data": {
      "text/plain": [
       "Text(0, 0.5, 'temperature')"
      ]
     },
     "execution_count": 16,
     "metadata": {},
     "output_type": "execute_result"
    },
    {
     "data": {
      "image/png": "[encoded data removed]",
      "text/plain": [
       "<Figure size 432x288 with 1 Axes>"
      ]
     },
     "metadata": {
      "needs_background": "light"
     },
     "output_type": "display_data"
    }
   ],
   "source": [
    "# check the average temperature for each month\n",
    "temperature_by_month_mean = df.groupby('month').temperature.mean()\n",
    "plt.plot(temperature_by_month_mean.index,temperature_by_month_mean.values)\n",
    "plt.xlabel('month')\n",
    "plt.ylabel('temperature')"
   ]
  },
  {
   "cell_type": "code",
   "execution_count": 17,
   "metadata": {},
   "outputs": [
    {
     "data": {
      "text/plain": [
       "month\n",
       "1      6.699803\n",
       "2      6.400167\n",
       "3      6.799879\n",
       "4     10.299700\n",
       "5     12.600026\n",
       "6     15.100200\n",
       "7     14.300303\n",
       "8     15.899996\n",
       "9     12.900142\n",
       "10     9.400011\n",
       "11     7.699767\n",
       "12     4.299976\n",
       "Name: temperature, dtype: float64"
      ]
     },
     "execution_count": 17,
     "metadata": {},
     "output_type": "execute_result"
    }
   ],
   "source": [
    "temperature_by_month_mean"
   ]
  },
  {
   "cell_type": "code",
   "execution_count": 15,
   "metadata": {},
   "outputs": [
    {
     "data": {
      "text/html": [
       "<div>\n",
       "<style scoped>\n",
       "    .dataframe tbody tr th:only-of-type {\n",
       "        vertical-align: middle;\n",
       "    }\n",
       "\n",
       "    .dataframe tbody tr th {\n",
       "        vertical-align: top;\n",
       "    }\n",
       "\n",
       "    .dataframe thead th {\n",
       "        text-align: right;\n",
       "    }\n",
       "</style>\n",
       "<table border=\"1\" class=\"dataframe\">\n",
       "  <thead>\n",
       "    <tr style=\"text-align: right;\">\n",
       "      <th></th>\n",
       "      <th>patient_id</th>\n",
       "      <th>gender</th>\n",
       "      <th>ethnicity</th>\n",
       "      <th>living_condition</th>\n",
       "      <th>age</th>\n",
       "      <th>date</th>\n",
       "      <th>temperature</th>\n",
       "      <th>has_flu_consultation</th>\n",
       "      <th>weekday</th>\n",
       "      <th>month</th>\n",
       "    </tr>\n",
       "  </thead>\n",
       "  <tbody>\n",
       "    <tr>\n",
       "      <th>0</th>\n",
       "      <td>dd0f2ed4-e304-4bc5-b294-dc6857f6fc0d</td>\n",
       "      <td>M</td>\n",
       "      <td>White</td>\n",
       "      <td>other</td>\n",
       "      <td>37.0</td>\n",
       "      <td>2020-01-01</td>\n",
       "      <td>6.700850</td>\n",
       "      <td>0</td>\n",
       "      <td>2</td>\n",
       "      <td>1</td>\n",
       "    </tr>\n",
       "    <tr>\n",
       "      <th>1</th>\n",
       "      <td>dd0f2ed4-e304-4bc5-b294-dc6857f6fc0d</td>\n",
       "      <td>M</td>\n",
       "      <td>White</td>\n",
       "      <td>other</td>\n",
       "      <td>37.0</td>\n",
       "      <td>2020-01-02</td>\n",
       "      <td>6.699768</td>\n",
       "      <td>0</td>\n",
       "      <td>3</td>\n",
       "      <td>1</td>\n",
       "    </tr>\n",
       "    <tr>\n",
       "      <th>2</th>\n",
       "      <td>dd0f2ed4-e304-4bc5-b294-dc6857f6fc0d</td>\n",
       "      <td>M</td>\n",
       "      <td>White</td>\n",
       "      <td>other</td>\n",
       "      <td>37.0</td>\n",
       "      <td>2020-01-03</td>\n",
       "      <td>6.698431</td>\n",
       "      <td>1</td>\n",
       "      <td>4</td>\n",
       "      <td>1</td>\n",
       "    </tr>\n",
       "    <tr>\n",
       "      <th>3</th>\n",
       "      <td>dd0f2ed4-e304-4bc5-b294-dc6857f6fc0d</td>\n",
       "      <td>M</td>\n",
       "      <td>White</td>\n",
       "      <td>other</td>\n",
       "      <td>37.0</td>\n",
       "      <td>2020-01-04</td>\n",
       "      <td>6.700928</td>\n",
       "      <td>0</td>\n",
       "      <td>5</td>\n",
       "      <td>1</td>\n",
       "    </tr>\n",
       "    <tr>\n",
       "      <th>4</th>\n",
       "      <td>dd0f2ed4-e304-4bc5-b294-dc6857f6fc0d</td>\n",
       "      <td>M</td>\n",
       "      <td>White</td>\n",
       "      <td>other</td>\n",
       "      <td>37.0</td>\n",
       "      <td>2020-01-05</td>\n",
       "      <td>6.699303</td>\n",
       "      <td>0</td>\n",
       "      <td>6</td>\n",
       "      <td>1</td>\n",
       "    </tr>\n",
       "  </tbody>\n",
       "</table>\n",
       "</div>"
      ],
      "text/plain": [
       "                             patient_id gender ethnicity living_condition  \\\n",
       "0  dd0f2ed4-e304-4bc5-b294-dc6857f6fc0d      M     White            other   \n",
       "1  dd0f2ed4-e304-4bc5-b294-dc6857f6fc0d      M     White            other   \n",
       "2  dd0f2ed4-e304-4bc5-b294-dc6857f6fc0d      M     White            other   \n",
       "3  dd0f2ed4-e304-4bc5-b294-dc6857f6fc0d      M     White            other   \n",
       "4  dd0f2ed4-e304-4bc5-b294-dc6857f6fc0d      M     White            other   \n",
       "\n",
       "    age        date  temperature  has_flu_consultation  weekday  month  \n",
       "0  37.0  2020-01-01     6.700850                     0        2      1  \n",
       "1  37.0  2020-01-02     6.699768                     0        3      1  \n",
       "2  37.0  2020-01-03     6.698431                     1        4      1  \n",
       "3  37.0  2020-01-04     6.700928                     0        5      1  \n",
       "4  37.0  2020-01-05     6.699303                     0        6      1  "
      ]
     },
     "execution_count": 15,
     "metadata": {},
     "output_type": "execute_result"
    }
   ],
   "source": [
    "df.head()"
   ]
  },
  {
   "cell_type": "code",
   "execution_count": 12,
   "metadata": {},
   "outputs": [
    {
     "data": {
      "image/png": "[encoded data removed]",
      "text/plain": [
       "<Figure size 720x720 with 4 Axes>"
      ]
     },
     "metadata": {
      "needs_background": "light"
     },
     "output_type": "display_data"
    }
   ],
   "source": [
    "# the number of consultation by demographics\n",
    "fig, ax = plt.subplots(2, 2, figsize=(10,10))\n",
    "flu_consulation_by_age = df.groupby('age')['has_flu_consultation'].mean()\n",
    "flu_consulation_by_age.plot(ax=ax[0,0])\n",
    "flu_consulation_by_ethnicity = df.groupby('ethnicity')['has_flu_consultation'].mean()\n",
    "flu_consulation_by_ethnicity.plot(ax=ax[0,1],kind='bar')\n",
    "flu_consulation_by_livcond = df.groupby('living_condition')['has_flu_consultation'].mean()\n",
    "flu_consulation_by_livcond.plot(ax=ax[1,0],kind='bar')\n",
    "flu_consulation_by_gender = df.groupby('gender')['has_flu_consultation'].mean()\n",
    "flu_consulation_by_gender.plot(ax=ax[1,1],kind='bar')\n",
    "plt.tight_layout()"
   ]
  },
  {
   "cell_type": "code",
   "execution_count": 20,
   "metadata": {},
   "outputs": [],
   "source": [
    "    flu_consulation_by_ethnicity = df.groupby('ethnicity')['has_flu_consultation'].count()"
   ]
  },
  {
   "cell_type": "markdown",
   "metadata": {},
   "source": [
    "What have you learned from these plots? Do you already have some insights about which demographics are more likely to have flu consultation? Are there any features that seem redundant?"
   ]
  },
  {
   "cell_type": "markdown",
   "metadata": {},
   "source": [
    "##  Preprocessing"
   ]
  },
  {
   "cell_type": "code",
   "execution_count": 13,
   "metadata": {},
   "outputs": [],
   "source": [
    "# one-hot encode columns that are categorical (hint: pandas has built in functions for this)\n",
    "categorical_cols = [\"ethnicity\", \"living_condition\",'weekday','month']\n",
    "model_df = pd.get_dummies(df, columns=categorical_cols, drop_first=True)"
   ]
  },
  {
   "cell_type": "code",
   "execution_count": 14,
   "metadata": {},
   "outputs": [
    {
     "data": {
      "image/png": "[encoded data removed]",
      "text/plain": [
       "<Figure size 720x720 with 2 Axes>"
      ]
     },
     "metadata": {
      "needs_background": "light"
     },
     "output_type": "display_data"
    }
   ],
   "source": [
    "# make some plots to sense-check how correlated are the columns\n",
    "import seaborn as sns\n",
    "fig = plt.figure(figsize=(10,10))\n",
    "ax = sns.heatmap(\n",
    "    model_df.corr(), \n",
    "    vmin=-1, vmax=1, center=0,\n",
    "    cmap=sns.diverging_palette(20, 220, n=200),\n",
    "    square=True\n",
    ")\n",
    "_ = ax.set_xticklabels(\n",
    "    ax.get_xticklabels(),\n",
    "    rotation=45,\n",
    "    horizontalalignment='right'\n",
    ")"
   ]
  },
  {
   "cell_type": "code",
   "execution_count": 15,
   "metadata": {},
   "outputs": [],
   "source": [
    "# define the columns you wished to include as features\n",
    "feature_cols = sorted(\n",
    "    set(model_df.columns) - set([\"patient_id\", \"date\", \"has_flu_consultation\",\"gender\"])\n",
    ")"
   ]
  },
  {
   "cell_type": "code",
   "execution_count": 16,
   "metadata": {},
   "outputs": [],
   "source": [
    "# define the outcome variable column\n",
    "target_col = \"has_flu_consultation\""
   ]
  },
  {
   "cell_type": "markdown",
   "metadata": {},
   "source": [
    "### Train, test, validation split\n",
    "Before you begin selecting and optimising a machine learning model, you should split your data into train, test (and maybe validation) sets. In some cases, you may only need a training and a validation set. For example, perhaps the test data has been held out from the beginning. You may also choose to just use a train/test split and utilise cross validation methods on your training data. The exact ratios for each dataset will depend on the amount of available data and specifics of the problem but an 80/20 train/test split is a good rule of thumb."
   ]
  },
  {
   "cell_type": "code",
   "execution_count": 17,
   "metadata": {},
   "outputs": [],
   "source": [
    "# split the data into train/test sets and separate the features from the target.\n",
    "from sklearn.model_selection import train_test_split\n",
    "\n",
    "X = model_df[feature_cols]\n",
    "y = model_df[target_col]\n",
    "X_train, X_test, y_train, y_test = train_test_split(\n",
    "    X, y, test_size=0.2, random_state=42\n",
    ")"
   ]
  },
  {
   "cell_type": "markdown",
   "metadata": {},
   "source": [
    "## Model selection and tuning\n",
    "---\n",
    "There are many classification algorithms that could be used for this problem. It is up to you to decide which methods are most suitable for this binary classification task given what you have learned about the data so far.In general sklearn can be used to quickly test different types of model. We suggest using cross validation to compare the performance of a few classifiers on the training data, without worrying too much about hyperparameter tuning at this stage. Try to pick at least 3 models that are different in some significant way. Depending on which models you choose, you may need some extra preprocessing steps, e.g., normalising the data. You will need to consider what the important performance metrics are for a classification problem, and use these to decide which model is best for the task.\n",
    "\n",
    "Note: Is the class of the outcome variable balanced? What can you do to improve the quality of model-fits?"
   ]
  },
  {
   "cell_type": "code",
   "execution_count": 18,
   "metadata": {},
   "outputs": [],
   "source": [
    "# import the sklearn models that you want to try (recommend 3 models max for time)\n",
    "from sklearn.model_selection import cross_val_predict\n",
    "from sklearn import metrics\n",
    "from sklearn.linear_model import LogisticRegression\n",
    "from sklearn.tree import DecisionTreeClassifier\n",
    "from sklearn.ensemble import RandomForestClassifier"
   ]
  },
  {
   "cell_type": "code",
   "execution_count": 19,
   "metadata": {},
   "outputs": [],
   "source": [
    "lr = LogisticRegression(class_weight='balanced')\n",
    "y_lr = cross_val_predict(lr, X_train, y_train, cv=4, n_jobs=n_jobs)"
   ]
  },
  {
   "cell_type": "code",
   "execution_count": 20,
   "metadata": {},
   "outputs": [],
   "source": [
    "dt = DecisionTreeClassifier(class_weight='balanced')\n",
    "y_dtc = cross_val_predict(dt, X_train, y_train, cv=4, n_jobs=n_jobs)"
   ]
  },
  {
   "cell_type": "code",
   "execution_count": 21,
   "metadata": {},
   "outputs": [],
   "source": [
    "# train different models using cross validation\n",
    "rf = RandomForestClassifier(class_weight='balanced')\n",
    "y_rfc = cross_val_predict(rf, X_train, y_train, cv=4, n_jobs=n_jobs)"
   ]
  },
  {
   "cell_type": "code",
   "execution_count": 22,
   "metadata": {},
   "outputs": [],
   "source": [
    "# Write a function that takes model predicted probabilities and actual y as input. \n",
    "# Compute the accuracy, precision, recall and f1 score\n",
    "# return a dictionary that has these metrics as keys and the computed metric as values\n",
    "def get_performance(y_pred, y_true):\n",
    "    \"\"\"Returns a dict containing the accuracy, precision, recall, and f1 score of\n",
    "    a model prediction.\"\"\"\n",
    "    # compute performance metrics of model\n",
    "    performance = {}\n",
    "    # simple accuracy\n",
    "    performance[\"accuracy\"] = round(metrics.accuracy_score(y_true, y_pred) * 100, 2)\n",
    "    # precision\n",
    "    performance[\"precision\"] = round(metrics.precision_score(y_true, y_pred), 2)\n",
    "    # recall\n",
    "    performance[\"recall\"] = round(metrics.recall_score(y_true, y_pred), 2)\n",
    "    # f1-score\n",
    "    performance[\"f1score\"] = round(metrics.f1_score(y_true, y_pred), 2)\n",
    "\n",
    "    return performance"
   ]
  },
  {
   "cell_type": "code",
   "execution_count": 23,
   "metadata": {},
   "outputs": [
    {
     "data": {
      "text/html": [
       "<div>\n",
       "<style scoped>\n",
       "    .dataframe tbody tr th:only-of-type {\n",
       "        vertical-align: middle;\n",
       "    }\n",
       "\n",
       "    .dataframe tbody tr th {\n",
       "        vertical-align: top;\n",
       "    }\n",
       "\n",
       "    .dataframe thead th {\n",
       "        text-align: right;\n",
       "    }\n",
       "</style>\n",
       "<table border=\"1\" class=\"dataframe\">\n",
       "  <thead>\n",
       "    <tr style=\"text-align: right;\">\n",
       "      <th></th>\n",
       "      <th>LogReg</th>\n",
       "      <th>DecisionTree</th>\n",
       "      <th>RandomForest</th>\n",
       "    </tr>\n",
       "  </thead>\n",
       "  <tbody>\n",
       "    <tr>\n",
       "      <th>accuracy</th>\n",
       "      <td>52.72</td>\n",
       "      <td>59.17</td>\n",
       "      <td>63.39</td>\n",
       "    </tr>\n",
       "    <tr>\n",
       "      <th>precision</th>\n",
       "      <td>0.26</td>\n",
       "      <td>0.25</td>\n",
       "      <td>0.26</td>\n",
       "    </tr>\n",
       "    <tr>\n",
       "      <th>recall</th>\n",
       "      <td>0.68</td>\n",
       "      <td>0.49</td>\n",
       "      <td>0.41</td>\n",
       "    </tr>\n",
       "    <tr>\n",
       "      <th>f1score</th>\n",
       "      <td>0.38</td>\n",
       "      <td>0.33</td>\n",
       "      <td>0.32</td>\n",
       "    </tr>\n",
       "  </tbody>\n",
       "</table>\n",
       "</div>"
      ],
      "text/plain": [
       "           LogReg  DecisionTree  RandomForest\n",
       "accuracy    52.72         59.17         63.39\n",
       "precision    0.26          0.25          0.26\n",
       "recall       0.68          0.49          0.41\n",
       "f1score      0.38          0.33          0.32"
      ]
     },
     "execution_count": 23,
     "metadata": {},
     "output_type": "execute_result"
    }
   ],
   "source": [
    "performance_dict = {}\n",
    "performance_dict[\"LogReg\"] = get_performance(y_lr, y_train)\n",
    "performance_dict[\"DecisionTree\"] = get_performance(y_dtc, y_train)\n",
    "performance_dict['RandomForest'] = get_performance(y_rfc, y_train)\n",
    "df_performance = pd.DataFrame(performance_dict)\n",
    "df_performance"
   ]
  },
  {
   "cell_type": "markdown",
   "metadata": {},
   "source": [
    "Looking at these initial results, which model do you think is best to proceed with? Do you have any thoughts about why a certain model might be performing better at this problem than another. What are the limitations of each model?"
   ]
  },
  {
   "cell_type": "markdown",
   "metadata": {},
   "source": [
    "## Hyperparameter tuning\n",
    "---\n",
    "Select your best model from the above and see if you can increase its performance using hyper parameter tuning. You may find this link helpful. Depending on your model, doing an exhaustive grid search might take a very long time. Consider limiting your grid size by either selecting one or two of the hyperparameters that you think are most important or searching over small value range for each hyper parameter. Alternatively, you could try a randomised grid search to speed things up."
   ]
  },
  {
   "cell_type": "code",
   "execution_count": 24,
   "metadata": {},
   "outputs": [],
   "source": [
    "from sklearn.model_selection import GridSearchCV"
   ]
  },
  {
   "cell_type": "code",
   "execution_count": 25,
   "metadata": {},
   "outputs": [
    {
     "name": "stdout",
     "output_type": "stream",
     "text": [
      "Fitting 4 folds for each of 6 candidates, totalling 24 fits\n"
     ]
    },
    {
     "name": "stderr",
     "output_type": "stream",
     "text": [
      "[Parallel(n_jobs=4)]: Using backend LokyBackend with 4 concurrent workers.\n",
      "[Parallel(n_jobs=4)]: Done  24 out of  24 | elapsed:  7.2min finished\n"
     ]
    },
    {
     "name": "stdout",
     "output_type": "stream",
     "text": [
      "Best Parameter values: {'max_features': 'auto', 'min_samples_leaf': 10}\n"
     ]
    }
   ],
   "source": [
    "# Do a grid search on your hyperparameter space.\n",
    "param_grid = {\n",
    "    'min_samples_leaf':[10,20,40],\n",
    "    'max_features':[\"auto\",\"sqrt\"]\n",
    "             }\n",
    "clf = RandomForestClassifier(random_state=42,class_weight='balanced')\n",
    "tuned_model = GridSearchCV(clf, param_grid, cv=4, n_jobs=n_jobs, verbose=1)\n",
    "tuned_model.fit(X_train, y_train)\n",
    "print(f'Best Parameter values: {tuned_model.best_params_}')"
   ]
  },
  {
   "cell_type": "markdown",
   "metadata": {},
   "source": [
    "Model Evaluation\n",
    "---\n",
    "Now compare the performance of your baseline model and the tuned model on the test set. Why is it imporant to compare performance on held out data?"
   ]
  },
  {
   "cell_type": "code",
   "execution_count": 26,
   "metadata": {},
   "outputs": [
    {
     "name": "stderr",
     "output_type": "stream",
     "text": [
      "[Parallel(n_jobs=4)]: Using backend ThreadingBackend with 4 concurrent workers.\n",
      "[Parallel(n_jobs=4)]: Done  42 tasks      | elapsed:   11.6s\n",
      "[Parallel(n_jobs=4)]: Done 100 out of 100 | elapsed:   26.9s finished\n",
      "[Parallel(n_jobs=4)]: Using backend ThreadingBackend with 4 concurrent workers.\n",
      "[Parallel(n_jobs=4)]: Done  42 tasks      | elapsed:    0.7s\n",
      "[Parallel(n_jobs=4)]: Done 100 out of 100 | elapsed:    1.7s finished\n"
     ]
    },
    {
     "data": {
      "text/html": [
       "<div>\n",
       "<style scoped>\n",
       "    .dataframe tbody tr th:only-of-type {\n",
       "        vertical-align: middle;\n",
       "    }\n",
       "\n",
       "    .dataframe tbody tr th {\n",
       "        vertical-align: top;\n",
       "    }\n",
       "\n",
       "    .dataframe thead th {\n",
       "        text-align: right;\n",
       "    }\n",
       "</style>\n",
       "<table border=\"1\" class=\"dataframe\">\n",
       "  <thead>\n",
       "    <tr style=\"text-align: right;\">\n",
       "      <th></th>\n",
       "      <th>LogReg</th>\n",
       "      <th>DecisionTree</th>\n",
       "      <th>RandomForest</th>\n",
       "      <th>RFC_test_baseline</th>\n",
       "      <th>RFC_test_tuned</th>\n",
       "    </tr>\n",
       "  </thead>\n",
       "  <tbody>\n",
       "    <tr>\n",
       "      <th>accuracy</th>\n",
       "      <td>52.72</td>\n",
       "      <td>59.17</td>\n",
       "      <td>63.39</td>\n",
       "      <td>62.45</td>\n",
       "      <td>60.26</td>\n",
       "    </tr>\n",
       "    <tr>\n",
       "      <th>precision</th>\n",
       "      <td>0.26</td>\n",
       "      <td>0.25</td>\n",
       "      <td>0.26</td>\n",
       "      <td>0.26</td>\n",
       "      <td>0.28</td>\n",
       "    </tr>\n",
       "    <tr>\n",
       "      <th>recall</th>\n",
       "      <td>0.68</td>\n",
       "      <td>0.49</td>\n",
       "      <td>0.41</td>\n",
       "      <td>0.44</td>\n",
       "      <td>0.56</td>\n",
       "    </tr>\n",
       "    <tr>\n",
       "      <th>f1score</th>\n",
       "      <td>0.38</td>\n",
       "      <td>0.33</td>\n",
       "      <td>0.32</td>\n",
       "      <td>0.33</td>\n",
       "      <td>0.37</td>\n",
       "    </tr>\n",
       "  </tbody>\n",
       "</table>\n",
       "</div>"
      ],
      "text/plain": [
       "           LogReg  DecisionTree  RandomForest  RFC_test_baseline  \\\n",
       "accuracy    52.72         59.17         63.39              62.45   \n",
       "precision    0.26          0.25          0.26               0.26   \n",
       "recall       0.68          0.49          0.41               0.44   \n",
       "f1score      0.38          0.33          0.32               0.33   \n",
       "\n",
       "           RFC_test_tuned  \n",
       "accuracy            60.26  \n",
       "precision            0.28  \n",
       "recall               0.56  \n",
       "f1score              0.37  "
      ]
     },
     "execution_count": 26,
     "metadata": {},
     "output_type": "execute_result"
    }
   ],
   "source": [
    "# compare performance metrics\n",
    "clf_baseline = RandomForestClassifier(n_jobs=n_jobs, verbose=1, random_state=42,class_weight='balanced')\n",
    "clf_baseline.fit(X_train, y_train)\n",
    "y_test_baseline = clf_baseline.predict(X_test)\n",
    "y_test_tuned = tuned_model.predict(X_test)\n",
    "performance_dict['RFC_test_baseline'] = get_performance(y_test_baseline, y_test)\n",
    "performance_dict['RFC_test_tuned'] = get_performance(y_test_tuned, y_test)\n",
    "df_performance = pd.DataFrame(performance_dict)\n",
    "df_performance"
   ]
  },
  {
   "cell_type": "markdown",
   "metadata": {},
   "source": [
    "## ROC vs Precision-Recall\n",
    "---\n",
    "Draw the precision-recall curve and ROC curve for the classifiers and calculate the area under the curve in both cases. Which curve do you think is more appropriate for this problem and how might the choice effect your evaluation of the model? (Hint: consider your class balance)."
   ]
  },
  {
   "cell_type": "code",
   "execution_count": 27,
   "metadata": {},
   "outputs": [
    {
     "name": "stderr",
     "output_type": "stream",
     "text": [
      "[Parallel(n_jobs=4)]: Using backend ThreadingBackend with 4 concurrent workers.\n",
      "[Parallel(n_jobs=4)]: Done  42 tasks      | elapsed:    0.7s\n",
      "[Parallel(n_jobs=4)]: Done 100 out of 100 | elapsed:    1.6s finished\n"
     ]
    }
   ],
   "source": [
    "# get roc values and precision recall values uding sklearn\n",
    "y_proba_baseline = clf_baseline.predict_proba(X_test)[:,1]\n",
    "y_proba_tuned = tuned_model.predict_proba(X_test)[:,1]  "
   ]
  },
  {
   "cell_type": "code",
   "execution_count": 28,
   "metadata": {},
   "outputs": [],
   "source": [
    "# plot the curves\n",
    "precision_b, recall_b, thresholds_b = metrics.precision_recall_curve(y_test, y_proba_baseline)\n",
    "precision_t, recall_t, thresholds_t = metrics.precision_recall_curve(y_test, y_proba_tuned)\n",
    "fpr_b, tpr_b, thresholds = metrics.roc_curve(y_test, y_proba_baseline)\n",
    "fpr_t, tpr_t, thresholds = metrics.roc_curve(y_test, y_proba_tuned)"
   ]
  },
  {
   "cell_type": "code",
   "execution_count": 29,
   "metadata": {},
   "outputs": [
    {
     "data": {
      "text/plain": [
       "<matplotlib.legend.Legend at 0x7f4bb4fff5e0>"
      ]
     },
     "execution_count": 29,
     "metadata": {},
     "output_type": "execute_result"
    },
    {
     "data": {
      "image/png": "[encoded data removed]",
      "text/plain": [
       "<Figure size 1440x720 with 2 Axes>"
      ]
     },
     "metadata": {
      "needs_background": "light"
     },
     "output_type": "display_data"
    }
   ],
   "source": [
    "# calculate area under the curve.\n",
    "fig, axes = plt.subplots(nrows=1, ncols=2, figsize=[20,10])\n",
    "axes[0].plot(recall_t, precision_t, \"-r\", label='tuned')\n",
    "axes[0].plot(recall_b, precision_b, \"-g\", label='baseline')\n",
    "axes[0].plot([0,1],[1,0], '--')\n",
    "axes[0].set_xlabel('Recall')\n",
    "axes[0].set_ylabel('Precision')\n",
    "axes[0].set_title('Precision recall curve on test data')\n",
    "axes[0].legend()\n",
    "\n",
    "axes[1].plot(fpr_t, tpr_t, \"-r\", label='tuned')\n",
    "axes[1].plot(fpr_b, tpr_b, \"-g\", label='baseline')\n",
    "axes[1].plot([0, 1], [0, 1],'--')\n",
    "axes[1].set_xlabel('False Positive Rate')\n",
    "axes[1].set_ylabel('True Positive Rate')\n",
    "axes[1].set_title('ROC curve on test data');\n",
    "axes[1].legend()"
   ]
  },
  {
   "cell_type": "code",
   "execution_count": 30,
   "metadata": {},
   "outputs": [
    {
     "name": "stdout",
     "output_type": "stream",
     "text": [
      "Area under precision-recall curve: 0.2862154638596648\n",
      "Area under ROC curve: 0.6235354951362277\n"
     ]
    }
   ],
   "source": [
    "print(f'Area under precision-recall curve: {metrics.auc(recall_t, precision_t)}')\n",
    "print(f'Area under ROC curve: {metrics.auc(fpr_t, tpr_t)}')"
   ]
  },
  {
   "cell_type": "markdown",
   "metadata": {},
   "source": [
    "## Save the model\n",
    "\n",
    "We might want to re-use the trained model in the future without having to re-train it. To do this, we would need to save the model to disk and load the model when we need it again."
   ]
  },
  {
   "cell_type": "code",
   "execution_count": 31,
   "metadata": {},
   "outputs": [],
   "source": [
    "from joblib import dump, load\n",
    "dump(tuned_model, 'tuned_classifier.pkl')\n",
    "# to load the model\n",
    "clf  =  load('tuned_classifier.pkl')"
   ]
  },
  {
   "cell_type": "markdown",
   "metadata": {},
   "source": [
    "\n",
    "## Regression\n",
    "---\n",
    "Predicting the individual record might be challenging, there might be other factors that drives whether a patient get flu consultation on a particular day and we might not have access to those features. \n",
    "\n",
    "Instead of predicting daily flu consultation per patient, we might be more interested in questions like: what is the total number of flu consultation by the patient in each month rather than the number of flu consultation per patient per day."
   ]
  },
  {
   "cell_type": "markdown",
   "metadata": {},
   "source": [
    "### preprocess\n",
    "\n",
    "Now let's rework the dataframe such that each row represents the total number of flu consultations of a given month and a given patient.\n",
    "\n",
    "Hint: In the data, we have daily temperatures, what kind of aggregation we want to do in order to establish a meaningful relationship between temperature and month?  "
   ]
  },
  {
   "cell_type": "code",
   "execution_count": 32,
   "metadata": {},
   "outputs": [],
   "source": [
    "monthly_df = pd.pivot_table(df,\n",
    "               values=['temperature','has_flu_consultation'],\n",
    "               index=['patient_id','month','gender','ethnicity','living_condition'],\n",
    "               aggfunc={'temperature' : 'mean', 'has_flu_consultation' : 'sum'}\n",
    "              ).reset_index()"
   ]
  },
  {
   "cell_type": "markdown",
   "metadata": {},
   "source": [
    "#### prepare inputs for modelling\n",
    "\n",
    "Like how we have done for classification problems. What kind of preprocessing we need to do?"
   ]
  },
  {
   "cell_type": "code",
   "execution_count": 33,
   "metadata": {
    "scrolled": true
   },
   "outputs": [],
   "source": [
    "categorical_cols = [\"ethnicity\", \"living_condition\",\"month\"]\n",
    "model_df = pd.get_dummies(monthly_df, columns=categorical_cols, drop_first=True)"
   ]
  },
  {
   "cell_type": "code",
   "execution_count": 34,
   "metadata": {},
   "outputs": [],
   "source": [
    "feature_cols = sorted(\n",
    "    set(model_df.columns) - set(['patient_id','has_flu_consultation','gender'])\n",
    ")\n",
    "target_col = \"has_flu_consultation\"\n",
    "\n",
    "X=model_df[feature_cols]\n",
    "y=model_df[target_col]"
   ]
  },
  {
   "cell_type": "code",
   "execution_count": 35,
   "metadata": {},
   "outputs": [],
   "source": [
    "X_train, X_test, y_train, y_test = train_test_split(\n",
    "    X, y, test_size=0.2, random_state=42\n",
    ")"
   ]
  },
  {
   "cell_type": "markdown",
   "metadata": {},
   "source": [
    "### Model"
   ]
  },
  {
   "cell_type": "code",
   "execution_count": 36,
   "metadata": {},
   "outputs": [],
   "source": [
    "from sklearn.linear_model import LinearRegression"
   ]
  },
  {
   "cell_type": "code",
   "execution_count": 37,
   "metadata": {},
   "outputs": [],
   "source": [
    "lr = LinearRegression()\n",
    "lr.fit(X_train,y_train)\n",
    "y_pred =  lr.predict(X_test)"
   ]
  },
  {
   "cell_type": "markdown",
   "metadata": {},
   "source": [
    "### Check performance"
   ]
  },
  {
   "cell_type": "markdown",
   "metadata": {},
   "source": [
    "Try plotting the actual total consultations against the model predicted total consultations. What is the R2? Does the model perform better than the mean? "
   ]
  },
  {
   "cell_type": "code",
   "execution_count": 38,
   "metadata": {},
   "outputs": [],
   "source": [
    "from sklearn.metrics import r2_score"
   ]
  },
  {
   "cell_type": "code",
   "execution_count": 39,
   "metadata": {},
   "outputs": [
    {
     "name": "stdout",
     "output_type": "stream",
     "text": [
      "R2 for the test set is: 0.30722336663518124\n"
     ]
    }
   ],
   "source": [
    "print(f\"R2 for the test set is: {r2_score(y_test,y_pred)}\")"
   ]
  },
  {
   "cell_type": "code",
   "execution_count": 40,
   "metadata": {},
   "outputs": [
    {
     "data": {
      "text/plain": [
       "[<matplotlib.lines.Line2D at 0x7f4bc30514f0>]"
      ]
     },
     "execution_count": 40,
     "metadata": {},
     "output_type": "execute_result"
    },
    {
     "data": {
      "image/png": "[encoded data removed]",
      "text/plain": [
       "<Figure size 432x288 with 1 Axes>"
      ]
     },
     "metadata": {
      "needs_background": "light"
     },
     "output_type": "display_data"
    }
   ],
   "source": [
    "plt.plot(y_test,y_pred,'r.')"
   ]
  }
 ],
 "metadata": {
  "kernelspec": {
   "display_name": "Python 3",
   "language": "python",
   "name": "python3"
  },
  "language_info": {
   "codemirror_mode": {
    "name": "ipython",
    "version": 3
   },
   "file_extension": ".py",
   "mimetype": "text/x-python",
   "name": "python",
   "nbconvert_exporter": "python",
   "pygments_lexer": "ipython3",
   "version": "3.8.3"
  }
 },
 "nbformat": 4,
 "nbformat_minor": 4
}
